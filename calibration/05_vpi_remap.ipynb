{
 "cells": [
  {
   "cell_type": "code",
   "execution_count": 1,
   "id": "db36ecc2",
   "metadata": {},
   "outputs": [],
   "source": [
    "import cv2\n",
    "import numpy as np\n",
    "import matplotlib.pyplot as plt \n",
    "from PIL import Image\n",
    "import vpi\n",
    "import time\n",
    "\n",
    "fs = cv2.FileStorage(\"rectify_map_imx219_160deg_1080p.yaml\", cv2.FILE_STORAGE_READ)\n",
    "\n",
    "map_l = (\n",
    "    fs.getNode('map_l_x').mat(),\n",
    "    fs.getNode('map_l_y').mat()\n",
    ")\n",
    "\n",
    "map_r = (\n",
    "    fs.getNode('map_r_x').mat(),\n",
    "    fs.getNode('map_r_y').mat()\n",
    ")\n",
    "\n",
    "fs.release()"
   ]
  },
  {
   "cell_type": "code",
   "execution_count": 2,
   "id": "44d1397b",
   "metadata": {},
   "outputs": [
    {
     "data": {
      "text/plain": [
       "(1080, 1920)"
      ]
     },
     "execution_count": 2,
     "metadata": {},
     "output_type": "execute_result"
    }
   ],
   "source": [
    "src_map_l = map_l[0]\n",
    "idk_what_that_is_l = map_l[1]\n",
    "\n",
    "map_l_y, map_l_x = map_l[0][:,:,0], map_l[0][:,:,1]\n",
    "map_r_y, map_r_x = map_r[0][:,:,0], map_r[0][:,:,1]\n",
    "map_r_x.shape"
   ]
  },
  {
   "cell_type": "code",
   "execution_count": 3,
   "id": "ed3f1e48",
   "metadata": {},
   "outputs": [],
   "source": [
    "# Reference map (identity mapping)\n",
    "map_ref_x, map_ref_y = np.mgrid[0:1080:1, 0:1920:1]"
   ]
  },
  {
   "cell_type": "markdown",
   "id": "1f0eb359",
   "metadata": {},
   "source": [
    "## VPI remap"
   ]
  },
  {
   "cell_type": "code",
   "execution_count": 6,
   "id": "b50eaa09",
   "metadata": {},
   "outputs": [],
   "source": [
    "vpi_img = vpi.asimage(np.asarray(Image.open('image.jpg')))"
   ]
  },
  {
   "cell_type": "code",
   "execution_count": 7,
   "id": "b53fc113",
   "metadata": {},
   "outputs": [],
   "source": [
    "warp = vpi.WarpMap(vpi.WarpGrid((1920,1080)))\n",
    "wx,wy = np.asarray(warp).transpose(2,1,0)\n",
    "\n",
    "x = wx-vpi_img.width/2\n",
    "y = wy-vpi_img.height/2\n",
    " \n",
    "R = vpi_img.height/4 # planet radius\n",
    "r = np.sqrt(x*x + y*y)\n",
    " \n",
    "theta = np.pi + np.arctan2(y,x)\n",
    "phi = np.pi/2 - 2*np.arctan2(r, 2*R)\n",
    " \n",
    "wx[:] = np.fmod((theta + np.pi)/(2*np.pi)*(vpi_img.width-1), vpi_img.width-1)\n",
    "wy[:] = (phi + np.pi/2) / np.pi*(vpi_img.height-1)"
   ]
  },
  {
   "cell_type": "code",
   "execution_count": 8,
   "id": "525b5f7c",
   "metadata": {},
   "outputs": [],
   "source": [
    "t1 = time.perf_counter()\n",
    "\n",
    "with vpi.Backend.CUDA:\n",
    "    for _ in range(200):\n",
    "        output = vpi_img.remap(warp)\n",
    "        a = output.cpu()\n",
    "        \n",
    "t2 = time.perf_counter()"
   ]
  },
  {
   "cell_type": "code",
   "execution_count": 11,
   "id": "f15501b8",
   "metadata": {},
   "outputs": [
    {
     "name": "stdout",
     "output_type": "stream",
     "text": [
      "116.38088856439751 FPS\n"
     ]
    }
   ],
   "source": [
    "print(f\"{200/(t2 - t1)} FPS\")"
   ]
  }
 ],
 "metadata": {
  "kernelspec": {
   "display_name": "Python 3",
   "language": "python",
   "name": "python3"
  },
  "language_info": {
   "codemirror_mode": {
    "name": "ipython",
    "version": 3
   },
   "file_extension": ".py",
   "mimetype": "text/x-python",
   "name": "python",
   "nbconvert_exporter": "python",
   "pygments_lexer": "ipython3",
   "version": "3.6.9"
  }
 },
 "nbformat": 4,
 "nbformat_minor": 5
}
